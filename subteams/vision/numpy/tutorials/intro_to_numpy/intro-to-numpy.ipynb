{
 "cells": [
  {
   "cell_type": "markdown",
   "execution_count": null,
   "metadata": {},
   "source": [
    "Note on ipython notebook use\n",
    "* code is split into cells that can be run individually.\n",
    "* Memory, ie variables, are preserved across the whole notebook\n",
    "\n",
    "This repository may be forked via the edit button where you can edit your own version. To run a cell, press SHIFT + ENTER, or press the run button beside the cell. Memory is preserved in the order of execution."
   ]
  },
  {
   "cell_type": "markdown",
   "execution_count": null,
   "metadata": {},
   "source": [
    "# NumPy 101\n",
    "\n",
    "[NumPy Documentation](https://docs.scipy.org/doc/)\n",
    "\n",
    "[NumPy Book](https://docs.scipy.org/doc/\\_static/numpybook.pdf)\n",
    "\n",
    "The main use of NumPy for Python developers is to get access to contiguous memory arrays, just like the ones commonly used in C++. NumPy is far more popular than other libraries with this same data structure, largely because of its broadcasting feature, which allows operations acting on multiple arrays of different sizes to work without any special functions.\n",
    "\n",
    "The NumPy interpreter is also significantly faster than the Python interpreter for many tasks. For example, if you had a python list with values 1 to 1 million, and you used a list comprehension to add 1 to each of the values, it takes .07 seconds on my PC. On the other hand, if you have a NumPy array with values 1 to 1 million, using broadcasting to add one to each value only takes .008 seconds. Nearly a 10x speed increase. This makes NumPy extremely useful for working with large amounts of data, including images."
   ]
  },
  {
   "cell_type": "code",
   "execution_count": 1,
   "metadata": {},
   "outputs": [],
   "source": [
    "### Import Numpy\n",
    "# To install on your local machine, open a terminal and type:\n",
    "# Windows/Mac:\n",
    "# python -m pip install numpy\n",
    "# Linux:\n",
    "# python3 -m pip install numpy\n",
    "import numpy as np"
   ]
  },
  {
   "cell_type": "code",
   "execution_count": 2,
   "metadata": {},
   "outputs": [
    {
     "name": "stdout",
     "output_type": "stream",
     "text": [
      "['a' 'b' 'c']\n"
     ]
    }
   ],
   "source": [
    "### Creating an ndarray\n",
    "## Can pass any iterable (array-like) into np.array() to transform it to an ndarray\n",
    "## Numpy arrays are statically typed, unlike python lists!\n",
    "x = np.array(['a', 'b', 'c'])\n",
    "print(x)\n",
    "# array(['a', 'b', 'c'], dtype='<U1')"
   ]
  },
  {
   "cell_type": "code",
   "execution_count": 3,
   "metadata": {},
   "outputs": [
    {
     "name": "stdout",
     "output_type": "stream",
     "text": [
      "[0 1 2]\n"
     ]
    }
   ],
   "source": [
    "## Numpy version of range, generates an ndarray instead\n",
    "x = np.arange(start=0, stop=3, step=1)\n",
    "print(x)\n",
    "# array([0, 1, 2])"
   ]
  },
  {
   "cell_type": "code",
   "execution_count": 4,
   "metadata": {},
   "outputs": [
    {
     "name": "stdout",
     "output_type": "stream",
     "text": [
      "[0.  0.1 0.2 0.3 0.4 0.5 0.6 0.7 0.8 0.9]\n"
     ]
    }
   ],
   "source": [
    "## np.arange allows for non integer step sizes\n",
    "x = np.arange(start=0, stop=1, step=.1)\n",
    "print(x)"
   ]
  },
  {
   "cell_type": "code",
   "execution_count": 5,
   "metadata": {},
   "outputs": [
    {
     "name": "stdout",
     "output_type": "stream",
     "text": [
      "[0. 0. 0. 0. 0. 0.]\n"
     ]
    }
   ],
   "source": [
    "## Many functions to create quick arrays exist\n",
    "x = np.zeros(shape=6)\n",
    "print(x)"
   ]
  },
  {
   "cell_type": "code",
   "execution_count": 6,
   "metadata": {},
   "outputs": [
    {
     "name": "stdout",
     "output_type": "stream",
     "text": [
      "[[0. 0. 0. 0. 0.]\n",
      " [0. 0. 0. 0. 0.]\n",
      " [0. 0. 0. 0. 0.]]\n"
     ]
    }
   ],
   "source": [
    "## Generating n dimensional is usually done by passing a tuple\n",
    "#  into an array generation function.\n",
    "x = np.zeros(shape=(3, 5))\n",
    "print(x)"
   ]
  },
  {
   "cell_type": "code",
   "execution_count": 7,
   "metadata": {},
   "outputs": [
    {
     "name": "stdout",
     "output_type": "stream",
     "text": [
      "[0.93155876 0.29574992 0.68585759 0.67382667 0.93817691 0.49314389\n",
      " 0.72856054 0.08583324 0.21892651 0.85923479]\n"
     ]
    }
   ],
   "source": [
    "## Numpy can generate large amounts of random numbers very quickly\n",
    "x = np.random.uniform(0, 1, size=10)\n",
    "print(x)"
   ]
  },
  {
   "cell_type": "markdown",
   "execution_count": null,
   "metadata": {},
   "source": [
    "# Reshaping ndarrays"
   ]
  },
  {
   "cell_type": "code",
   "execution_count": 8,
   "metadata": {},
   "outputs": [
    {
     "name": "stdout",
     "output_type": "stream",
     "text": [
      "[ 1  2  3  4  5  6  7  8  9 10 11 12]\n"
     ]
    }
   ],
   "source": [
    "### Reshaping ndarrays\n",
    "x = np.arange(1, 13)\n",
    "print(x)\n",
    "# array([ 1,  2,  3,  4,  5,  6,  7,  8,  9, 10, 11, 12])"
   ]
  },
  {
   "cell_type": "code",
   "execution_count": 9,
   "metadata": {},
   "outputs": [
    {
     "name": "stdout",
     "output_type": "stream",
     "text": [
      "[[ 1  2  3  4]\n",
      " [ 5  6  7  8]\n",
      " [ 9 10 11 12]]\n"
     ]
    }
   ],
   "source": [
    "## Reshape by passing tuple w/ (n_rows, n_cols)\n",
    "y = x.reshape((3, 4))\n",
    "print(y)\n",
    "# array([[ 1,  2,  3,  4],\n",
    "#        [ 5,  6,  7,  8],\n",
    "#        [ 9, 10, 11, 12]])"
   ]
  },
  {
   "cell_type": "code",
   "execution_count": 10,
   "metadata": {},
   "outputs": [
    {
     "name": "stdout",
     "output_type": "stream",
     "text": [
      "[[ 1  5  9]\n",
      " [ 2  6 10]\n",
      " [ 3  7 11]\n",
      " [ 4  8 12]]\n"
     ]
    }
   ],
   "source": [
    "## Transpose matrix\n",
    "z = y.T\n",
    "print(z)"
   ]
  },
  {
   "cell_type": "code",
   "execution_count": 11,
   "metadata": {},
   "outputs": [
    {
     "name": "stdout",
     "output_type": "stream",
     "text": [
      "[0.98993759 0.93097049 0.98429427 0.88478864]\n",
      "[0.98993759 0.93097049 0.98429427 0.88478864]\n",
      "[[0.98993759]\n",
      " [0.93097049]\n",
      " [0.98429427]\n",
      " [0.88478864]]\n"
     ]
    }
   ],
   "source": [
    "## When reshaping can use -1 as parameter, the -1 is \n",
    "# switched to the maximum value it can be to generate \n",
    "# a valid array\n",
    "x = np.random.power(7, size=4)\n",
    "print(x)\n",
    "\n",
    "print(x.T)\n",
    "\n",
    "print(x.reshape((-1, 1)))"
   ]
  },
  {
   "cell_type": "markdown",
   "execution_count": null,
   "metadata": {},
   "source": [
    "# Combining ndarrays"
   ]
  },
  {
   "cell_type": "code",
   "execution_count": 12,
   "metadata": {},
   "outputs": [
    {
     "name": "stdout",
     "output_type": "stream",
     "text": [
      "[0 1 2 3 4 5]\n",
      "[[0 1 2]\n",
      " [3 4 5]]\n"
     ]
    }
   ],
   "source": [
    "### Combining ndarrays\n",
    "a = np.arange(6)\n",
    "b = a.reshape((2, -1))\n",
    "\n",
    "print(a)\n",
    "print(b)"
   ]
  },
  {
   "cell_type": "code",
   "execution_count": 13,
   "metadata": {},
   "outputs": [
    {
     "name": "stdout",
     "output_type": "stream",
     "text": [
      "[[0 1 2]\n",
      " [3 4 5]\n",
      " [0 1 2]\n",
      " [3 4 5]]\n"
     ]
    }
   ],
   "source": [
    "## Concatenate essentially glues arrays together along axis\n",
    "x = np.concatenate((b, b), axis=0)\n",
    "print(x)"
   ]
  },
  {
   "cell_type": "code",
   "execution_count": 14,
   "metadata": {},
   "outputs": [
    {
     "name": "stdout",
     "output_type": "stream",
     "text": [
      "[[0 1 2 0 1 2]\n",
      " [3 4 5 3 4 5]]\n"
     ]
    }
   ],
   "source": [
    "x = np.concatenate((b, b), axis=1)\n",
    "print(x)"
   ]
  },
  {
   "cell_type": "code",
   "execution_count": 15,
   "metadata": {},
   "outputs": [
    {
     "name": "stdout",
     "output_type": "stream",
     "text": [
      "[[0 1 2]\n",
      " [3 4 5]\n",
      " [0 1 2]\n",
      " [3 4 5]]\n"
     ]
    }
   ],
   "source": [
    "## vstack is an alias to concatenate: axis=0\n",
    "x = np.vstack((b, b))\n",
    "print(x)"
   ]
  },
  {
   "cell_type": "code",
   "execution_count": 16,
   "metadata": {},
   "outputs": [
    {
     "name": "stdout",
     "output_type": "stream",
     "text": [
      "[[0 1 2 0 1 2]\n",
      " [3 4 5 3 4 5]]\n"
     ]
    }
   ],
   "source": [
    "## hstack is an alias to concatenate: axis=1\n",
    "x = np.hstack((b, b))\n",
    "print(x)"
   ]
  },
  {
   "cell_type": "markdown",
   "execution_count": null,
   "metadata": {},
   "source": [
    "# Indexing and Slicing ndarrays"
   ]
  },
  {
   "cell_type": "code",
   "execution_count": 17,
   "metadata": {},
   "outputs": [
    {
     "name": "stdout",
     "output_type": "stream",
     "text": [
      "[[ 0  1  2  3]\n",
      " [ 4  5  6  7]\n",
      " [ 8  9 10 11]]\n",
      "6\n"
     ]
    }
   ],
   "source": [
    "### Indexing & Slicing ndarrays\n",
    "x = np.arange(12).reshape((3, 4))\n",
    "print(x)\n",
    "\n",
    "# [row, column, channel]\n",
    "print(x[1, 2])"
   ]
  },
  {
   "cell_type": "code",
   "execution_count": 18,
   "metadata": {},
   "outputs": [
    {
     "name": "stdout",
     "output_type": "stream",
     "text": [
      "[[[ 0  1  2]\n",
      "  [ 3  4  5]]\n",
      "\n",
      " [[ 6  7  8]\n",
      "  [ 9 10 11]]]\n",
      "5\n"
     ]
    }
   ],
   "source": [
    "x = np.arange(12).reshape((2, 2, 3))\n",
    "print(x)\n",
    "# array([[[ 0,  1,  2],\n",
    "#         [ 3,  4,  5]],\n",
    "#\n",
    "#        [[ 6,  7,  8],\n",
    "#         [ 9, 10, 11]]])\n",
    "\n",
    "# The third index is the channel. In an image, this would be used for RGB.\n",
    "print(x[0, 1, 2])"
   ]
  },
  {
   "cell_type": "code",
   "execution_count": 19,
   "metadata": {},
   "outputs": [
    {
     "name": "stdout",
     "output_type": "stream",
     "text": [
      "[ 0  3  6  9 12 15]\n",
      "[ 3  9 15]\n"
     ]
    }
   ],
   "source": [
    "## Multiple indexing, passing a list instead of an int\n",
    "# Note: values are returned as ndarray\n",
    "x = np.arange(0, 18, 3)\n",
    "print(x)\n",
    "\n",
    "print(x[[1, 3, 5]])"
   ]
  },
  {
   "cell_type": "code",
   "execution_count": 20,
   "metadata": {},
   "outputs": [
    {
     "name": "stdout",
     "output_type": "stream",
     "text": [
      "[[0 1 2 3 4]\n",
      " [5 6 7 8 9]]\n",
      "(array([0, 0, 1, 1, 1]), array([1, 3, 0, 2, 4]))\n",
      "[1 3 5 7 9]\n"
     ]
    }
   ],
   "source": [
    "## np.where generates indexing matrix based on what values are true\n",
    "#  in given matrix\n",
    "x = np.arange(10).reshape((2, -1))\n",
    "print(x)\n",
    "\n",
    "is_odd = x % 2\n",
    "# array([[0, 1, 0, 1, 0],\n",
    "#        [1, 0, 1, 0, 1]], dtype=int32)\n",
    "\n",
    "locs = np.where(is_odd)\n",
    "print(locs)\n",
    "# (array([0, 0, 1, 1, 1], dtype=int64), array([1, 3, 0, 2, 4], dtype=int64))\n",
    "print(x[locs])\n",
    "# array([1, 3, 5, 7, 9])"
   ]
  },
  {
   "cell_type": "code",
   "execution_count": 21,
   "metadata": {},
   "outputs": [
    {
     "name": "stdout",
     "output_type": "stream",
     "text": [
      "[0 1 2 3 4]\n",
      "[0 1 2 3 4]\n",
      "[0 2 4]\n",
      "[4 3 2 1 0]\n"
     ]
    }
   ],
   "source": [
    "## Slicing, the same as pure python with multiple dimensions.\n",
    "x = np.arange(5)\n",
    "\n",
    "print(x)\n",
    "\n",
    "print(x[::1])\n",
    "\n",
    "print(x[::2])\n",
    "\n",
    "print(x[::-1])"
   ]
  },
  {
   "cell_type": "code",
   "execution_count": 22,
   "metadata": {},
   "outputs": [
    {
     "name": "stdout",
     "output_type": "stream",
     "text": [
      "[[0 1 2 3 4]\n",
      " [1 2 3 4 5]\n",
      " [2 3 4 5 6]\n",
      " [3 4 5 6 7]\n",
      " [4 5 6 7 8]]\n",
      "\n",
      "[[1 2 3 4 5]\n",
      " [2 3 4 5 6]\n",
      " [3 4 5 6 7]]\n",
      "\n",
      "[[1 2 3]\n",
      " [2 3 4]\n",
      " [3 4 5]\n",
      " [4 5 6]\n",
      " [5 6 7]]\n",
      "\n",
      "[[2 3 4]\n",
      " [3 4 5]\n",
      " [4 5 6]]\n"
     ]
    }
   ],
   "source": [
    "x = np.arange(5) + np.arange(5).reshape((-1, 1))\n",
    "print(x)\n",
    "print()\n",
    "\n",
    "print(x[1:4])\n",
    "print()\n",
    "\n",
    "print(x[:, 1:4])\n",
    "print()\n",
    "\n",
    "print(x[1:4, 1:4])"
   ]
  },
  {
   "cell_type": "markdown",
   "execution_count": null,
   "metadata": {},
   "source": [
    "# Broadcasting"
   ]
  },
  {
   "cell_type": "code",
   "execution_count": 23,
   "metadata": {},
   "outputs": [
    {
     "name": "stdout",
     "output_type": "stream",
     "text": [
      "[6. 6. 6.]\n"
     ]
    }
   ],
   "source": [
    "### Broadcasting\n",
    "## Broadcasting is numpy's way of performing operations between\n",
    "#  arrays of different lengths\n",
    "\n",
    "## Quickly multiplying array by scalar\n",
    "x = np.ones(shape=3) * 6\n",
    "print(x)"
   ]
  },
  {
   "cell_type": "code",
   "execution_count": 24,
   "metadata": {},
   "outputs": [
    {
     "name": "stdout",
     "output_type": "stream",
     "text": [
      "[0 1 2]\n",
      "[[0]\n",
      " [1]\n",
      " [2]]\n",
      "[[0 1 2]\n",
      " [1 2 3]\n",
      " [2 3 4]]\n"
     ]
    }
   ],
   "source": [
    "## Adding vector a with shape (1, 3) and b with shape (3, 1) = \n",
    "#  x with shape (3, 3)\n",
    "a = np.arange(3)\n",
    "b = np.arange(3).reshape((-1, 1))\n",
    "print(a)\n",
    "\n",
    "print(b)\n",
    "\n",
    "x = a + b\n",
    "print(x)"
   ]
  },
  {
   "cell_type": "code",
   "execution_count": 25,
   "metadata": {},
   "outputs": [
    {
     "name": "stdout",
     "output_type": "stream",
     "text": [
      "[[-3.  0.  3.]\n",
      " [-3.  0.  3.]\n",
      " [-3.  0.  3.]]\n",
      "\n",
      "[-10   0  10]\n",
      "\n",
      "[[30.  0. 30.]\n",
      " [30.  0. 30.]\n",
      " [30.  0. 30.]]\n",
      "\n",
      "[[-10]\n",
      " [  0]\n",
      " [ 10]]\n",
      "\n",
      "[[ 30.  -0. -30.]\n",
      " [ -0.   0.   0.]\n",
      " [-30.   0.  30.]]\n"
     ]
    }
   ],
   "source": [
    "## Longer demonstration\n",
    "x = np.array([-3, 0, 3]) + np.zeros(shape=(3, 1))\n",
    "print(x)\n",
    "print()\n",
    "# array([[-3.,  0.,  3.],\n",
    "#        [-3.,  0.,  3.],\n",
    "#        [-3.,  0.,  3.]])\n",
    "\n",
    "y = np.array([-10, 0, 10])\n",
    "print(y)\n",
    "print()\n",
    "\n",
    "print(x * y)\n",
    "print()\n",
    "\n",
    "y = y.reshape((-1, 1))\n",
    "print(y)\n",
    "print()\n",
    "\n",
    "print(x * y)"
   ]
  },
  {
   "cell_type": "code",
   "execution_count": 26,
   "metadata": {},
   "outputs": [
    {
     "name": "stdout",
     "output_type": "stream",
     "text": [
      "[[0. 1. 2. 3. 4.]\n",
      " [0. 1. 2. 3. 4.]\n",
      " [0. 1. 2. 3. 4.]]\n",
      "[[1]\n",
      " [2]\n",
      " [3]]\n"
     ]
    }
   ],
   "source": [
    "## Arithmetic, Comparisons and set = are broadcastable operations\n",
    "# generating a crosshatch pattern\n",
    "x = np.arange(5) + np.zeros(shape=(3, 1))\n",
    "print(x)\n",
    "# array([[0., 1., 2., 3., 4.],\n",
    "#        [0., 1., 2., 3., 4.],\n",
    "#        [0., 1., 2., 3., 4.]])\n",
    "\n",
    "y = np.array([[1], [2], [3]])\n",
    "print(y)\n",
    "# array([[1],\n",
    "#        [2],\n",
    "#        [3]])"
   ]
  },
  {
   "cell_type": "code",
   "execution_count": 27,
   "metadata": {},
   "outputs": [
    {
     "name": "stdout",
     "output_type": "stream",
     "text": [
      "[[1. 2. 3. 4. 5.]\n",
      " [2. 3. 4. 5. 6.]\n",
      " [3. 4. 5. 6. 7.]]\n"
     ]
    }
   ],
   "source": [
    "z = x + y\n",
    "print(z)\n",
    "# array([[1., 2., 3., 4., 5.],\n",
    "#        [2., 3., 4., 5., 6.],\n",
    "#        [3., 4., 5., 6., 7.]])"
   ]
  },
  {
   "cell_type": "code",
   "execution_count": 28,
   "metadata": {},
   "outputs": [
    {
     "name": "stdout",
     "output_type": "stream",
     "text": [
      "[[False  True False  True False]\n",
      " [ True False  True False  True]\n",
      " [False  True False  True False]]\n"
     ]
    }
   ],
   "source": [
    "# ~ inverts boolean values\n",
    "idx = ~np.bool_(z % 2)\n",
    "print(idx)"
   ]
  },
  {
   "cell_type": "code",
   "execution_count": 29,
   "metadata": {},
   "outputs": [
    {
     "name": "stdout",
     "output_type": "stream",
     "text": [
      "[[1. 0. 3. 0. 5.]\n",
      " [0. 3. 0. 5. 0.]\n",
      " [3. 0. 5. 0. 7.]]\n"
     ]
    }
   ],
   "source": [
    "z[idx] = 0\n",
    "print(z)"
   ]
  },
  {
   "cell_type": "code",
   "execution_count": 30,
   "metadata": {},
   "outputs": [
    {
     "name": "stdout",
     "output_type": "stream",
     "text": [
      "[[ 1. nan  1. nan  1.]\n",
      " [nan  1. nan  1. nan]\n",
      " [ 1. nan  1. nan  1.]]\n"
     ]
    },
    {
     "name": "stderr",
     "output_type": "stream",
     "text": [
      "/opt/conda/lib/python3.6/site-packages/ipykernel_launcher.py:1: RuntimeWarning: invalid value encountered in true_divide\n",
      "  \"\"\"Entry point for launching an IPython kernel.\n"
     ]
    }
   ],
   "source": [
    "crosshatch = z / z\n",
    "print(crosshatch)\n",
    "# Note: nan means \"not a number\" and results from a divide by zero error"
   ]
  },
  {
   "cell_type": "code",
   "execution_count": 31,
   "metadata": {},
   "outputs": [
    {
     "name": "stdout",
     "output_type": "stream",
     "text": [
      "[[1. 0. 1. 0. 1.]\n",
      " [0. 1. 0. 1. 0.]\n",
      " [1. 0. 1. 0. 1.]]\n"
     ]
    }
   ],
   "source": [
    "# We can use np.isnan to create a mask for nan values\n",
    "crosshatch[np.isnan(crosshatch)] = 0\n",
    "print(crosshatch)"
   ]
  },
  {
   "cell_type": "markdown",
   "execution_count": null,
   "metadata": {},
   "source": [
    "# Memory Nuances"
   ]
  },
  {
   "cell_type": "code",
   "execution_count": 32,
   "metadata": {},
   "outputs": [
    {
     "name": "stdout",
     "output_type": "stream",
     "text": [
      "[[0 1 2 3 4]\n",
      " [5 6 7 8 9]]\n",
      "[[9 8 7 6 5]\n",
      " [4 3 2 1 0]]\n",
      "[[1 2 3 4 5]\n",
      " [5 6 7 8 9]]\n",
      "[[9 8 7 6 5]\n",
      " [5 4 3 2 1]]\n"
     ]
    }
   ],
   "source": [
    "### Memory Nuances\n",
    "## Slicing and indexing values of ndarray return actual\n",
    "## memory locations that can be used to modify original\n",
    "a = np.arange(10).reshape((2, 5))\n",
    "print(a)\n",
    "\n",
    "b = a[::-1, ::-1]\n",
    "print(b)\n",
    "\n",
    "a[0] += 1\n",
    "print(a)\n",
    "\n",
    "print(b)"
   ]
  },
  {
   "cell_type": "code",
   "execution_count": 33,
   "metadata": {},
   "outputs": [
    {
     "name": "stdout",
     "output_type": "stream",
     "text": [
      "[[0 1 2 3 4]\n",
      " [5 6 7 8 9]]\n",
      "[[9 8 7 6 5]\n",
      " [4 3 2 1 0]]\n",
      "[[1 2 3 4 5]\n",
      " [5 6 7 8 9]]\n",
      "[[9 8 7 6 5]\n",
      " [4 3 2 1 0]]\n"
     ]
    }
   ],
   "source": [
    "## np.copy is a quick way to remove this issue\n",
    "a = np.arange(10).reshape((2, 5))\n",
    "print(a)\n",
    "\n",
    "b = np.copy(a)[::-1, ::-1]\n",
    "print(b)\n",
    "\n",
    "a[0] += 1\n",
    "print(a)\n",
    "\n",
    "print(b)"
   ]
  },
  {
   "cell_type": "markdown",
   "execution_count": null,
   "metadata": {},
   "source": [
    "# Statistics with Numpy"
   ]
  },
  {
   "cell_type": "code",
   "execution_count": 34,
   "metadata": {},
   "outputs": [
    {
     "name": "stdout",
     "output_type": "stream",
     "text": [
      "11.974745668190877\n",
      "50.0\n"
     ]
    }
   ],
   "source": [
    "### Numpy Statistics\n",
    "x = np.random.normal(loc=12, size=10000)\n",
    "print(np.mean(x))\n",
    "\n",
    "x = np.random.randint(0, 100, size=100000)\n",
    "print(np.median(x))"
   ]
  },
  {
   "cell_type": "markdown",
   "execution_count": null,
   "metadata": {},
   "source": [
    "# Masked Arrays"
   ]
  },
  {
   "cell_type": "code",
   "execution_count": 35,
   "metadata": {},
   "outputs": [
    {
     "name": "stdout",
     "output_type": "stream",
     "text": [
      "[0 1 2 3 4 5 6 7 8 9]\n"
     ]
    }
   ],
   "source": [
    "### Masked Arrays\n",
    "# data[any], mask[bool], fill_value[any] <- value given w/ array-array comparison \n",
    "# when location is masked\n",
    "x = np.ma.array(np.arange(10), mask=[False] * 10)\n",
    "print(x)\n",
    "# masked_array(data=[0, 1, 2, 3, 4, 5, 6, 7, 8, 9],\n",
    "#              mask=[False, False, False, False, False, False, False, False,\n",
    "#                    False, False],\n",
    "#        fill_value=999999)"
   ]
  },
  {
   "cell_type": "code",
   "execution_count": 36,
   "metadata": {},
   "outputs": [
    {
     "name": "stdout",
     "output_type": "stream",
     "text": [
      "[0 -- 2 -- 4 -- 6 -- 8 --]\n"
     ]
    }
   ],
   "source": [
    "x.mask[np.where(x % 2)] = True\n",
    "print(x)\n",
    "# masked_array(data=[0, --, 2, --, 4, --, 6, --, 8, --],\n",
    "#              mask=[False,  True, False,  True, False,  True, False,  True,\n",
    "#                    False,  True],\n",
    "#        fill_value=999999)"
   ]
  },
  {
   "cell_type": "code",
   "execution_count": 37,
   "metadata": {},
   "outputs": [
    {
     "name": "stdout",
     "output_type": "stream",
     "text": [
      "[True -- True -- True -- True -- True --]\n"
     ]
    }
   ],
   "source": [
    "print(x >= 0)\n",
    "# masked_array(data=[True, --, True, --, True, --, True, --, True, --],\n",
    "#              mask=[False,  True, False,  True, False,  True, False,  True,\n",
    "#                    False,  True],\n",
    "#        fill_value=999999)"
   ]
  },
  {
   "cell_type": "code",
   "execution_count": 38,
   "metadata": {},
   "outputs": [
    {
     "name": "stdout",
     "output_type": "stream",
     "text": [
      "20\n"
     ]
    }
   ],
   "source": [
    "print(np.sum(x))\n",
    "# 20"
   ]
  },
  {
   "cell_type": "markdown",
   "execution_count": null,
   "metadata": {},
   "source": [
    "# General Functions"
   ]
  },
  {
   "cell_type": "code",
   "execution_count": 39,
   "metadata": {},
   "outputs": [
    {
     "name": "stdout",
     "output_type": "stream",
     "text": [
      "[0, 1, 2, 3, 4]\n",
      "[4, 3, 2, 1, 0]\n",
      "[4, 4, 4, 4, 4]\n"
     ]
    }
   ],
   "source": [
    "### General Functions\n",
    "# Using Pure Python\n",
    "a = list(range(5))\n",
    "print(a)\n",
    "\n",
    "b = a[::-1]\n",
    "print(b)\n",
    "\n",
    "for i, value in enumerate(b):\n",
    "    a[i] += value\n",
    "print(a)"
   ]
  },
  {
   "cell_type": "code",
   "execution_count": 40,
   "metadata": {},
   "outputs": [
    {
     "name": "stdout",
     "output_type": "stream",
     "text": [
      "[[0 1 2 3 4]\n",
      " [5 6 7 8 9]]\n",
      "[[9 8 7 6 5]\n",
      " [4 3 2 1 0]]\n",
      "[[9 9 9 9 9]\n",
      " [9 9 9 9 9]]\n"
     ]
    }
   ],
   "source": [
    "# Now using Numpy\n",
    "a = np.arange(10).reshape((2, 5))\n",
    "print(a)\n",
    "\n",
    "b = np.copy(a)[::-1, ::-1]\n",
    "print(b)\n",
    "\n",
    "for idx, value in np.ndenumerate(b):  # n dimensional enumerate, idx=tuple\n",
    "    a[idx] += value\n",
    "print(a)"
   ]
  },
  {
   "cell_type": "code",
   "execution_count": 41,
   "metadata": {},
   "outputs": [
    {
     "name": "stdout",
     "output_type": "stream",
     "text": [
      "[[[ 0  1  2]\n",
      "  [ 3  4  5]]\n",
      "\n",
      " [[ 6  7  8]\n",
      "  [ 9 10 11]]]\n",
      "[ 0  1  2  3  4  5  6  7  8  9 10 11]\n"
     ]
    }
   ],
   "source": [
    "x = np.arange(12).reshape((2, 2, 3))\n",
    "print(x)\n",
    "# array([[[ 0,  1,  2],\n",
    "#         [ 3,  4,  5]],\n",
    "\n",
    "#        [[ 6,  7,  8],\n",
    "#         [ 9, 10, 11]]])\n",
    "\n",
    "print(np.ravel(x))"
   ]
  },
  {
   "cell_type": "code",
   "execution_count": 42,
   "metadata": {},
   "outputs": [
    {
     "name": "stdout",
     "output_type": "stream",
     "text": [
      "[0 1 2 3 4 5 6]\n",
      "[0 1 2 3 2 1 0]\n",
      "3\n"
     ]
    }
   ],
   "source": [
    "x = np.arange(7)\n",
    "print(x)\n",
    "\n",
    "y = np.minimum(x, x[::-1])\n",
    "print(y)\n",
    "\n",
    "print(np.argmax(y))  # -> index of max value"
   ]
  },
  {
   "cell_type": "markdown",
   "execution_count": null,
   "metadata": {},
   "source": [
    "# Practice Programs\n",
    "\n",
    "### Monte Carlo Craps Simulation\n",
    "\n",
    "Implement a way to find the odds of winning a game of craps. Use a brute force method to run 1 million iterations of the game. Using numpy, we can quickly find the win rate.\n",
    "\n",
    "Roll 2 dice and sum values.\n",
    "\n",
    "Part 1: First roll\n",
    "Win if roll 7 or 11\n",
    "Loose if roll 2, 3 or 12\n",
    "Go onto Part 2 if did not win or loose\n",
    "\n",
    "Part 2: Roll until win/loose\n",
    "Win if re-roll number from part 1\n",
    "Loose if roll 7\n",
    "Roll again if did not win or loose\n",
    "\n",
    "Brute force method to find probability of winning craps. 1M iterations of the game.\n",
    "This can be done with all games taking place in one array in order to maximize time in numpy compiler and minimize code complexity.\n",
    "\n",
    "Answer: 49.2% win rate\n",
    "\n",
    "[My Solution](https://github.com/fallscameron01/Monte_Carlo_Simulation/blob/master/craps.py)"
   ]
  }
 ],
 "metadata": {
  "kernelspec": {
   "display_name": "Python 3",
   "language": "python",
   "name": "python3"
  },
  "language_info": {
   "codemirror_mode": {
    "name": "ipython",
    "version": 3
   },
   "file_extension": ".py",
   "mimetype": "text/x-python",
   "name": "python",
   "nbconvert_exporter": "python",
   "pygments_lexer": "ipython3",
   "version": "3.6.6"
  }
 },
 "nbformat": 4,
 "nbformat_minor": 4
}
